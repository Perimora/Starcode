{
 "cells": [
  {
   "cell_type": "markdown",
   "id": "8c21302bfd284b07",
   "metadata": {},
   "source": [
    "<table width=\"100%\" style=\" padding: 15px; border-radius: 5px;\">\n",
    "  <tr>\n",
    "    <td align=\"left\" style=\"font-size: 80px; font-weight: bold; font-family: 'Courier New', monospace;\">CODE&PLAY</td>\n",
    "    <td align=\"right\">\n",
    "      <img src=\"msc/img/starcode_dark.png\" alt=\"Starcode Logo\" style=\"height: 150px;\">\n",
    "    </td>\n",
    "  </tr>\n",
    "</table>\n",
    "\n",
    "<hr style=\"border: 1.5px solid black; margin-top: -20px;\">\n",
    "\n",
    "<p style=\"font-size: 20px; color: gray; font-weight: bold; text-align: center;\">\n",
    " 🚀 Programmierkurs für Schülerinnen – Frauen für IT begeistern und stärken!\n",
    "</p>"
   ]
  },
  {
   "cell_type": "markdown",
   "id": "7dcf919146fc4c08",
   "metadata": {},
   "source": [
    "## Was ist ein Programm?"
   ]
  },
  {
   "cell_type": "markdown",
   "id": "40f1d09cd996d410",
   "metadata": {},
   "source": [
    "\n",
    "<div style=\"background-color: #F5E1A4; padding: 10px; border-radius: 5px; overflow: hidden; border: 2px solid #8B6F47;\">\n",
    "    <img src=\"msc/img/gesamtes_flussdiagramm.jpg\" style=\"width:400px; margin: 20px; float: right\"/>\n",
    "    Im Folgenden erarbeiten wir zusammen die <b>Grundlagen des Programmierens</b> mit der Programmiersprache <b>Python</b>.<br>\n",
    "    Anhand von <b>Erklärungen, Beispielen und Aufgaben</b> programmieren wir gemeinsam ein <b>Hangman-Spiel</b>. Dazu wollen wir erstmal verstehen, was ein Programm eigentlich ist.<br>\n",
    "    <br>\n",
    "    <b>Ein Programm ist eine Menge von hintereinander ausgeführten Anweisungen.</b>\n",
    "    Das mag sich jetzt etwas abstrakt anhören, aber tatsächlich kennt ihr Programme schon aus eurem Alltag.<br>\n",
    "    <b>Anleitungen zum Aufbauen von Möbelstücken</b> oder <b>Kochrezepte</b> kann man sich als Programme vorstellen.<br>\n",
    "    <img src=\"msc/img/Bauanleitung_Vogelhaus.jpg\" style=\"width:200px; margin: 20px\" />\n",
    "    <img src=\"msc/img/Kochrezept.jpg\" style=\"width:200px; margin: 20px\"/>\n",
    "    <br>\n",
    "    Im Unterschied dazu beinhalten Programme in Computern <b>Code-Anweisungen</b>, die <b>vom Computer ausgeführt werden</b>. Diese kann man in verschiedenen Programmiersprachen schreiben, wir nutzen Python.\n",
    "    Hier ein sehr einfaches erstes Programm in Python:\n",
    "</div>\n",
    "\n",
    "\n"
   ]
  },
  {
   "cell_type": "code",
   "execution_count": 1,
   "id": "fad81a6bf7bb4410",
   "metadata": {
    "ExecuteTime": {
     "end_time": "2025-04-07T17:27:01.068734Z",
     "start_time": "2025-04-07T17:27:01.063232Z"
    }
   },
   "outputs": [
    {
     "name": "stdout",
     "output_type": "stream",
     "text": [
      "Hello World!\n"
     ]
    }
   ],
   "source": [
    "print(\"Hello World!\")"
   ]
  },
  {
   "cell_type": "markdown",
   "id": "66cecbf63fb4226c",
   "metadata": {},
   "source": [
    "<div style=\"background-color: #F5E1A4; padding: 10px; border-radius: 5px; overflow: hidden; border: 2px solid #8B6F47;\">\n",
    "    Du kannst das Programm gerne zum <b>Ausführen bringen</b>, um zu sehen, was es macht. \n",
    "Klick dafür auf die Zelle mit dem Code und drücke dann gleichzeitig <b>SHIFT + ENTER</b> (⇧ + ↵ ).<br>\n",
    "    <img src=\"msc/img/Tastatur_Farbig.jpg\" style=\"width:200px; margin: 20px\"/><br>\n",
    "    <b>Unter der Zelle</b> sollte der folgende Ausdruck erscheinen:\n",
    "</div>\n",
    "\n",
    "```python\n",
    "    Hello World!\n",
    "```\n",
    "\n",
    "<div style=\"background-color: #F5E1A4; padding: 10px; border-radius: 5px; overflow: hidden; border: 2px solid #8B6F47;\">\n",
    "Das 'Hello World' nennen wir <b>Ausgabe</b>. Der Bereich unter der Code-Zelle heißt <b>Ausgabefeld</b>.\n",
    "</div>"
   ]
  },
  {
   "cell_type": "markdown",
   "id": "c54ed746132de59d",
   "metadata": {},
   "source": [
    "## Der `print`-Befehl"
   ]
  },
  {
   "cell_type": "markdown",
   "id": "430c5b2a",
   "metadata": {},
   "source": [
    "<div style=\"background-color: #F5E1A4; padding: 10px; border-radius: 5px; overflow: hidden; border: 2px solid #8B6F47;\">\n",
    "    \n",
    "Wir wollen uns nun den `print` Befehl genauer anschauen.<br> \n",
    "    Wie oben gesehen, gibt dieser Befehl den Text, den wir in Klammern eingeben, in dem Ausgabefeld zurück. <br>\n",
    "    Beachte hier, dass Text (sogenannte <b>strings</b>) in Python in Anführungsstrichen geschrieben werden muss.<br>\n",
    "    Führe die folgende Zelle einmal aus. Schau gerne immer wieder oben nach, wenn Du vergessen hast, wie etwas ging.\n",
    "</div>"
   ]
  },
  {
   "cell_type": "code",
   "execution_count": null,
   "id": "4acbed0ff5896a6a",
   "metadata": {},
   "outputs": [],
   "source": [
    "#Hier ein einfacher print-Befehl\n",
    "print('Hallo')\n",
    "\n",
    "# Wir könnnen übrigens verschiedene Textbausteine, also strings auch mit einem + ganz einfach verbinden:\n",
    "print('Hallo'+'World')"
   ]
  },
  {
   "cell_type": "markdown",
   "id": "ee8796ab",
   "metadata": {},
   "source": [
    "<div style=\"background-color: #F5E1A4; padding: 10px; border-radius: 5px; overflow: hidden; border: 2px solid #8B6F47; margin-bottom: 10px;\">\n",
    "    Beachte, dass hier das Leerzeichen fehlt. <br> Du kannst es am Ende von 'Hallo' oder am Anfang von 'World' einfügen und schauen, ob dann die richtige Ausgabe im Ausgabefeld erscheint. <br> \n",
    "    Nachdem du etwas geändert hast, musst du den Code erneut ausführen, also <b>SHIFT + ENTER (⇧ + ↵ )</b> drücken. <br>\n",
    "    Natürlich können wir auch wie oben, einfach einen ganzen Satz in Anführungszeichen schreiben. Aber die Methode zwei Strings mit einem + zu verbinden wird später noch nützlich sein.\n",
    "</div>\n",
    "<div style=\"background-color: #D6E9C6; padding: 10px; border-radius: 5px; overflow: hidden; border: 2px solid #4A7C59; margin-bottom: 10px;\">\n",
    "    <img src=\"msc/img/Starte_hangman1.png\" style=\"width:200px; margin: 20px; float: right\"/>\n",
    "    <b>KONTEXT:</b> Wenn das Spiel beginnt, wollen wir im Ausgabefeld eine Begrüßung ausgeben. Aus dieser soll hervorgehen, dass es sich hier um ein Hangman-Spiel handelt. Es können auch kurz und knapp die Spielregeln erklärt werden. <br>\n",
    "</div>\n",
    "<div style=\"background-color: #D1ECF1; padding: 10px; border-radius: 5px; overflow: hidden; border: 2px solid #2A6173;\">\n",
    "\n",
    "<b>Aufgabe:</b> Überlege dir eine Begrüßung für das Hangman-Spiel und benutze den `print` Befehl um diese im Ausgabefeld ausgeben zu lassen. \n",
    "</div>\n"
   ]
  },
  {
   "cell_type": "code",
   "execution_count": 1,
   "id": "491523b65207364b",
   "metadata": {},
   "outputs": [
    {
     "name": "stdout",
     "output_type": "stream",
     "text": [
      "Willkommen zum Spiel Hangman!\n"
     ]
    }
   ],
   "source": [
    "# Hier kannst du die Begrüßung für das Spiel schreiben. Benutze dafür eine neue Zeile!\n",
    "\n",
    "print(\"Willkommen zum Spiel Hangman!\")"
   ]
  },
  {
   "cell_type": "markdown",
   "id": "d0a660cf401eab63",
   "metadata": {},
   "source": [
    "## Kommentare"
   ]
  },
  {
   "cell_type": "markdown",
   "id": "8741930730618233",
   "metadata": {},
   "source": [
    "<div style=\"background-color: #F5E1A4; padding: 10px; border-radius: 5px; overflow: hidden; border: 2px solid #8B6F47;\">\n",
    "    Sicherlich sind dir im vorherigen Code-Schnipsel die Zeilen aufgefallen, die mit einem \"#\" beginnen.<br>\n",
    "Dabei handelt es sich um <b>Kommentare</b>, die <b>nicht vom Computer als Anweisung verstanden</b> werden. Sie werden also vom Computer ignoriert und <b>dienen der Leserin als ergänzende Info</b>.\n",
    "</div>\n"
   ]
  },
  {
   "cell_type": "code",
   "execution_count": null,
   "id": "ea2e41d97d27dccc",
   "metadata": {},
   "outputs": [],
   "source": [
    "# Dies ist ein Kommentar.\n",
    "# x=5 \n",
    "# Dies wird ignoriert, das heißt der Computer kennt x nicht. Folgendes führt also zu einem Fehler:\n",
    "print(x)"
   ]
  },
  {
   "cell_type": "markdown",
   "id": "5002d8041fa91e86",
   "metadata": {},
   "source": [
    "## Variablen\n"
   ]
  },
  {
   "cell_type": "markdown",
   "id": "17385341",
   "metadata": {},
   "source": [
    "<div style=\"background-color: #F5E1A4; padding: 10px; border-radius: 5px; overflow: hidden; border: 2px solid #8B6F47;\">\n",
    "\n",
    "In <b>Variablen</b> können wir Werte abspeichern. <br> \n",
    "    Du kennst höchstwahrscheinlich schon Variablen aus der Mathematik oder Physik, in denen Zahlen gespeichert sind. <br> \n",
    "    In Python können <b>Werte</b> Zahlen, Strings (Text) oder sogenannte Booleans sein. Ein <b>Boolean</b> ist ein Wahrheitswert. Er kann einen der beiden Werte `True` (wahr) oder `False` (falsch) annehmen.\n",
    "\n",
    "Hier ein paar Beispiele:\n",
    "</div>\n"
   ]
  },
  {
   "cell_type": "code",
   "execution_count": null,
   "id": "d86a370b9ecf92ac",
   "metadata": {},
   "outputs": [],
   "source": [
    "a = 7\n",
    "b = 9\n",
    "string = 'Text'\n",
    "c = True"
   ]
  },
  {
   "cell_type": "markdown",
   "id": "571a2293",
   "metadata": {},
   "source": [
    "<div style=\"background-color: #F5E1A4; padding: 10px; border-radius: 5px; overflow: hidden; border: 2px solid #8B6F47;\">\n",
    "\n",
    "Wenn Du die Zelle oben ausgeführt hast, kannst du die Werte der Variablen weiterverwenden und zum Beispiel mit dem `print`-Befehl ausgeben lassen. Führe dazu die nächste Zelle aus.\n",
    "</div>"
   ]
  },
  {
   "cell_type": "code",
   "execution_count": null,
   "id": "71d2c36ebc5c3959",
   "metadata": {},
   "outputs": [],
   "source": [
    "print(string)\n",
    "print(a+b)"
   ]
  },
  {
   "cell_type": "markdown",
   "id": "f2136385",
   "metadata": {},
   "source": [
    "<div style=\"background-color: #F5E1A4; padding: 10px; border-radius: 5px; overflow: hidden; border: 2px solid #8B6F47;\">\n",
    "\n",
    "<b>HINWEIS: </b> Wenn hier ein Fehler auftritt, dann stell sicher, dass Du vorher die obere Zelle ausgeführt hast. Nur so kennt Python die Variablen, die hier im `print`-Befehl verwendet werden.\n",
    "</div>"
   ]
  },
  {
   "cell_type": "markdown",
   "id": "e82ba1d3004121cc",
   "metadata": {},
   "source": [
    "<div style=\"background-color: #D1ECF1; padding: 10px; border-radius: 5px; overflow: hidden; border: 2px solid #2A6173;\">\n",
    "    <b>Aufgabe:</b> Probiere selber aus Variablen zu definieren und auszugeben. \n",
    "</div>"
   ]
  },
  {
   "cell_type": "code",
   "execution_count": null,
   "id": "19ac176385799260",
   "metadata": {},
   "outputs": [],
   "source": [
    "# Hier hast du selber Platz zum Ausprobieren. Du kannst natürlich auch die Zellen oben verwenden.\n",
    "\n"
   ]
  },
  {
   "cell_type": "markdown",
   "id": "b3caa1a4",
   "metadata": {},
   "source": [
    "## Zusatz (Datentypen)\n",
    "Dieser Inhalt wird fürs Spiel nicht gebraucht und dient nur dazu einen Überblick für Interessierte zu geben. Du kannst gerne direkt zum Abschnitt `Input` springen."
   ]
  },
  {
   "cell_type": "markdown",
   "id": "752d1bd8d4626bcc",
   "metadata": {},
   "source": [
    "Python nutzt im Hintergrund sogenante <b> Datentypen </b>. Jede Variable, die neu definiert wird, hat einen solchen Typ. \n",
    "Wir müssen diesen aber nicht explizit angeben, das regelt Python alles automatisch (bei anderen Programmiersprachen ist das teilweise nicht so).\n",
    "Die folgende Tabelle gibt einen Überblick über die wichtigsten Datentypen. \n",
    "\n",
    "| Datentyp | Wertebereich | Beispiel |\n",
    "|----------|----------|----------|\n",
    "| `int` | Ganze Zahlen | `11` |\n",
    "| `float` | Reelle Zahlen | `3.14` |\n",
    "| `str` | Zeichenfolgen | `\"Katze\"`, `\"starcode*\"` |\n",
    "| `boolean` | `True`, `False` | `True` |\n",
    "\n",
    "Tatsächlich gibt es zwei Unterarten von Zahlen und zwar `int` und `float`. Dies kann für gewisse Operationen, wie die Division, wichtig sein."
   ]
  },
  {
   "cell_type": "markdown",
   "id": "dd034476a9023985",
   "metadata": {},
   "source": [
    "## `Input`"
   ]
  },
  {
   "cell_type": "markdown",
   "id": "53d6d422",
   "metadata": {},
   "source": [
    "<div style=\"background-color: #D6E9C6; padding: 10px; border-radius: 5px; overflow: hidden; border: 2px solid #4A7C59; margin-bottom: 10px;\">\n",
    "    <img src=\"msc/img/Rate_buchstaben1.png\" style=\"width:200px; margin: 20px; float: right\"/>\n",
    "    <b>KONTEXT:</b> Für das Galgenmännchenspiel müssen wir der Spielerin die Möglichkeit geben Buchstaben zu raten. <br>\n",
    "    Hierzu müssen wir jeweils einen Buchstabe eingegeben können, der dann von unserem Programm geprüft wird.\n",
    "</div>\n",
    "<div style=\"background-color: #F5E1A4; padding: 10px; border-radius: 5px; overflow: hidden; border: 2px solid #8B6F47;\">\n",
    "\n",
    "   Um das zu tun verwenden wir die Funktion `input()` von Python. <br> Sie erlaubt uns Text oder andere Eingaben, den wir in ein Eingabefeld tippen, zu speichern und damit weiter zu arbeiten. Hier ist erstmal ein Beispiel:\n",
    "</div>"
   ]
  },
  {
   "cell_type": "code",
   "execution_count": null,
   "id": "f0dbac4d8f0c832a",
   "metadata": {},
   "outputs": [],
   "source": [
    "# Der Befehl Input lässt ein Textfeld erscheinen, in den die Benutzerin etwas eingeben kann\n",
    "input('Bitte ein Wort eingeben')"
   ]
  },
  {
   "cell_type": "markdown",
   "id": "9307cfdbd2a2a85a",
   "metadata": {},
   "source": [
    "<div style=\"background-color: #F5E1A4; padding: 10px; border-radius: 5px; overflow: hidden; border: 2px solid #8B6F47;\">\n",
    "\n",
    "   Wir können also in die Klammern des `input()`-Befehls einen Text schreiben, die dann vor dem Eingabefeld erscheint. <br> \n",
    "    Beachte, dass Strings - wie immer in Python - in Anführungsstrichen geschrieben werden müssen. <br> \n",
    "    So, wie wir `input()` gerade genutzt haben, bringt es uns nicht viel, da wir die Eingabe nirgendwo speichern. Um den eingegebenen Wert zu verarbeiten, können wir diesen in einer Variablen speichern.\n",
    "</div>"
   ]
  },
  {
   "cell_type": "code",
   "execution_count": null,
   "id": "e12d95572f254f57",
   "metadata": {},
   "outputs": [],
   "source": [
    "#Wir speichern die Eingabe unter der Variable name. Somit können wir später wieder darauf zugreifen und der eingegebene Wert geht nicht verloren.\n",
    "name = input('Bitte gib deinen Namen ein.')"
   ]
  },
  {
   "cell_type": "markdown",
   "id": "a0c89591b6989c00",
   "metadata": {},
   "source": [
    "<div style=\"background-color: #F5E1A4; padding: 10px; border-radius: 5px; overflow: hidden; border: 2px solid #8B6F47;\">\n",
    "\n",
    "   Nun können wir den eingegebenen Namen wieder aufrufen. Zum Beispiel mit dem `print()`-Befehl von oben:\n",
    "</div>\n"
   ]
  },
  {
   "cell_type": "code",
   "execution_count": null,
   "id": "512542e9287a397f",
   "metadata": {},
   "outputs": [],
   "source": [
    "# Hier verbinden wir nun verschiedene Strings mit einem +, wie oben gelernt.\n",
    "print('Dein Name ist '+ name +'.')"
   ]
  },
  {
   "cell_type": "markdown",
   "id": "a6704b7a637bc3b0",
   "metadata": {},
   "source": [
    "<div style=\"background-color: #D1ECF1; padding: 10px; border-radius: 5px; overflow: hidden; border: 2px solid #2A6173;\">\n",
    "    <b>Aufgabe:</b> Versuche nun selber ein Inputfeld zu erstellen, was eine personalisierte Begrüßung für das Spiel erstellt. Du kannst die Begrüßung von oben gerne kopieren und erweitern.\n",
    "</div>\n",
    "\n"
   ]
  },
  {
   "cell_type": "code",
   "execution_count": 2,
   "id": "c81b2649",
   "metadata": {},
   "outputs": [
    {
     "name": "stdin",
     "output_type": "stream",
     "text": [
      "Bitte gib deinen Namen ein: Chris\n"
     ]
    },
    {
     "name": "stdout",
     "output_type": "stream",
     "text": [
      "Willkommen Chris\n"
     ]
    }
   ],
   "source": [
    "# TODO Nimm zunächst den Namen der Spielerin als die Eingabe entgegen. Nutze dazu den Input-Befehl, wie oben gelernt.\n",
    "# Speicher die Eingabe gleich unter einem sinnvollen Variablennamen.\n",
    "name = input(\"Bitte gib deinen Namen ein:\")\n",
    "print(\"Willkommen \" + name)\n",
    "# TODO Nun begrüße die Person mit ihrem Namen zum Hangman-Spiel. Nutze dazu den print-Befehl."
   ]
  },
  {
   "cell_type": "markdown",
   "id": "520e2e8fddee976b",
   "metadata": {},
   "source": [
    "## Funktionen"
   ]
  },
  {
   "cell_type": "markdown",
   "id": "65d8b1eea71d0826",
   "metadata": {},
   "source": [
    "<div style=\"background-color: #F5E1A4; padding: 10px; border-radius: 5px; overflow: hidden; border: 2px solid #8B6F47;\">\n",
    "    Eine <b>Funktion</b> ist ein Baustein, der eine bestimmte Aufgabe erfüllt. <br>\n",
    "    Man kann sie immer wieder aufrufen und an verschiedenen Stellen verwenden. Eine Funktion hat bestimmte Bestandteile, die wir immer verwenden müssen. <br>\n",
    "    Wir können uns das Prinzip einer Funktion, wie in der Mathematik vorstellen. Die Funktion bekommt dabei eine Eingabe (Input) und verarbeitet diese. Am Ende gibt sie ein Ergebnis (Output) zurück. <br>\n",
    "    Hier erstmal ein Beispiel. Du musst noch nicht genau verstehen, was hier passiert. Der Name der Funktion verrät aber schon ihre Aufgabe:\n",
    "</div>\n",
    "\n"
   ]
  },
  {
   "cell_type": "code",
   "execution_count": null,
   "id": "7a34103470d498fe",
   "metadata": {},
   "outputs": [],
   "source": [
    "def addition(zahl1, zahl2):\n",
    "        ergebnis=zahl1+zahl2\n",
    "        return ergebnis"
   ]
  },
  {
   "cell_type": "markdown",
   "id": "48101b2f",
   "metadata": {},
   "source": [
    "<div style=\"background-color: #F5E1A4; padding: 10px; border-radius: 5px; overflow: hidden; border: 2px solid #8B6F47;\">\n",
    "    In der folgenden Grafik sind die <b>Elemente einer Funktion </b> einmal benannt und erklärt: <br>\n",
    "    <img src=\"msc/img/Erklärung_Funktionen.png\" style=\"width:800px; margin: 20px\"/> <br>\n",
    "    Hier ein paar Beispiele für Funktionsnamen und die sinnvolle Benennung der Input-Variablen (dieser Code ist nicht ausführbar):\n",
    "</div>"
   ]
  },
  {
   "cell_type": "markdown",
   "id": "d33f9f8c0c5f21bb",
   "metadata": {},
   "source": [
    "\n",
    "```python\n",
    "def Wetter_morgen(Wetterdaten):\n",
    "\n",
    "def Gewicht(Körpergröße, Alter):\n",
    "\n",
    "def Reisezeit(Standort, Zielort):\n",
    "```"
   ]
  },
  {
   "cell_type": "markdown",
   "id": "839f6ff248bba2cb",
   "metadata": {},
   "source": [
    "<div style=\"background-color: #F5E1A4; padding: 10px; border-radius: 5px; overflow: hidden; border: 2px solid #8B6F47;\">\n",
    "    Wir sehen also, dass die Namen der Funktionen und deren Input, also die Werte in Klammern, genau aussagen, was dahintersteckt. <br>\n",
    "    Die erste Funktion würde zum Beispiel anhand der Wetterdaten (dem Input) das Wetter vorhersagen. <br> Dagegen kann man von einer Funktion, die wie folgt aussieht\n",
    "</div>\n"
   ]
  },
  {
   "cell_type": "markdown",
   "id": "7c0639dd672a26df",
   "metadata": {},
   "source": [
    "```python\n",
    "    def Funktion1(x):\n",
    "```"
   ]
  },
  {
   "cell_type": "markdown",
   "id": "453dbd2f766bfcf6",
   "metadata": {},
   "source": [
    "<div style=\"background-color: #F5E1A4; padding: 10px; border-radius: 5px; overflow: hidden; border: 2px solid #8B6F47;\">\n",
    "    nicht ablesen, was diese tut. Genau, wie wir oben Variablen immer <b>sinnvoll und aussagekräftig benannt</b> haben, tun wir das auch mit Funktionen. Das ändert nichts daran, was diese tun, erleichtert es aber sehr, wenn andere deinen Code lesen sollen und sorgt auch dafür, dass du selbst nicht durcheinander kommst.<br>\n",
    "    Nun wollen wir die Funktion einmal ausprobieren. Dazu schreiben wir den Namen der Funktion hin, mit den jeweiligen Werten als Input, die wir ausprobieren wollen.\n",
    "</div>\n"
   ]
  },
  {
   "cell_type": "code",
   "execution_count": null,
   "id": "bb0c9f63e3b3734b",
   "metadata": {},
   "outputs": [],
   "source": [
    "# Hier testen wir die Funktion, jeweils an die Stelle der oben definierten Variablen kommen unsere Eingabewerte in der richtigen Reihenfolge.\n",
    "print(addition(9, 8))"
   ]
  },
  {
   "cell_type": "markdown",
   "id": "63221b6de0e5596c",
   "metadata": {},
   "source": [
    "<div style=\"background-color: #F5E1A4; padding: 10px; border-radius: 5px; overflow: hidden; border: 2px solid #8B6F47;\">\n",
    "\n",
    "   Nicht jede Funktion muss einen <b>Input</b> oder <b>Output</b> haben. <br>\n",
    "    Das heißt die Klammern in der ersten Zeile können auch leer bleiben, wenn es keinen Input gibt. <br> \n",
    "    Ebenso können wir die Zeile mit dem `return` weglassen, wenn es keinen Output gibt. Wir haben im Folgenden einmal alle möglichen Kombinationen von Input und Output aufgelistet.\n",
    "</div>\n",
    "\n"
   ]
  },
  {
   "cell_type": "markdown",
   "id": "da3027a360d00914",
   "metadata": {},
   "source": [
    "### Input und Output"
   ]
  },
  {
   "cell_type": "markdown",
   "id": "c0c02fb1",
   "metadata": {},
   "source": [
    "<div style=\"background-color: #F5E1A4; padding: 10px; border-radius: 5px; overflow: hidden; border: 2px solid #8B6F47;\">\n",
    "\n",
    "   Diese Kombination kennen wir schon von unserer Funktion `addition()` von oben. Hier noch ein weiteres Beispiel:\n",
    "</div>"
   ]
  },
  {
   "cell_type": "markdown",
   "id": "5e462b8cbe3846d7",
   "metadata": {},
   "source": [
    "<img src=\"msc/img/Input_Output.png\" style=\"width:800px; margin: 20px\"/>"
   ]
  },
  {
   "cell_type": "code",
   "execution_count": null,
   "id": "cbefa8b4cc391235",
   "metadata": {},
   "outputs": [],
   "source": [
    "# Hier sehen wir die dazugehörige Funktion\n",
    "def multiplikation(zahl1, zahl2):\n",
    "    return zahl1* zahl2\n",
    "\n",
    "#Hier testen wir die Funktion:\n",
    "print(multiplikation(3,7))"
   ]
  },
  {
   "cell_type": "markdown",
   "id": "e978c46a5e712220",
   "metadata": {},
   "source": [
    "### Nur Output"
   ]
  },
  {
   "cell_type": "markdown",
   "id": "fdcfa808",
   "metadata": {},
   "source": [
    "<div style=\"background-color: #F5E1A4; padding: 10px; border-radius: 5px; overflow: hidden; border: 2px solid #8B6F47;\">\n",
    "    Manchmal hat man Aufgaben zu erfüllen, die unabhängig von einem Input sind. Es kann dann troztdem sinnvoll sein, diese in eine Funktion zu schreiben, wenn diese Aufgabe mehrfach ausgeführt werden muss. Bei einer Anpassung reicht es dann beispielsweise die Definition der Funktion zu ändern. Man muss nicht den ganzen Code durchsuchen und alle Stellen, wo die Funktionalität genutzt wird ändern.\n",
    "</div>"
   ]
  },
  {
   "cell_type": "markdown",
   "id": "3648aeec7598df23",
   "metadata": {},
   "source": [
    "<img src=\"msc/img/Output.png\" style=\"width:800px; margin: 20px\"/>"
   ]
  },
  {
   "cell_type": "code",
   "execution_count": null,
   "id": "52217ba49db39feb",
   "metadata": {},
   "outputs": [],
   "source": [
    "#Diese Funktion hat keinen Input und gibt als Output immer den Wert True\n",
    "def immer_wahr():\n",
    "    return True\n",
    "\n",
    "# Wir testen die Funktion wieder:\n",
    "print(immer_wahr())"
   ]
  },
  {
   "cell_type": "markdown",
   "id": "8dddd92e28b35339",
   "metadata": {},
   "source": [
    "### Nur Input"
   ]
  },
  {
   "cell_type": "markdown",
   "id": "9c015792",
   "metadata": {},
   "source": [
    "<div style=\"background-color: #F5E1A4; padding: 10px; border-radius: 5px; overflow: hidden; border: 2px solid #8B6F47;\">\n",
    "    Es kann vorkommen, dass wir zwar die Information aus dem Input in der Funktion benutzen wollen, diese aber nichts zurückgeben muss.\n",
    "</div>"
   ]
  },
  {
   "cell_type": "markdown",
   "id": "6fd5ca970e441372",
   "metadata": {},
   "source": [
    "<img src=\"msc/img/Input.png\" style=\"width:800px; margin: 20px\"/>"
   ]
  },
  {
   "cell_type": "code",
   "execution_count": null,
   "id": "cd5b6890dec66718",
   "metadata": {},
   "outputs": [],
   "source": [
    "# Diese Funktion bekommt als Input zwei Strings, jedoch keinen Output.\n",
    "# Beachte, dass die Funktion zwar mit dem print-Befehl Werte im Ausgabefeld ausgibt, dies jedoch kein Output der Funktion ist.\n",
    "# Für einen Output müssten wir das Schlüsselwort return verwenden. Wir könnten also nicht x = verabschieden('Weihnachtsmann') schreiben\n",
    "def verabschieden(name):\n",
    "    print('Auf Wiedersehen ' + name + '!')\n",
    "\n",
    "# Wir testen die Funktion\n",
    "verabschieden('Weihnachtsmann')"
   ]
  },
  {
   "cell_type": "markdown",
   "id": "d655d4fb66b262a3",
   "metadata": {},
   "source": [
    "### weder Input noch Output\n"
   ]
  },
  {
   "cell_type": "markdown",
   "id": "a320a40347e6b2ef",
   "metadata": {},
   "source": [
    "<img src=\"msc/img/nix.png\" style=\"width:800px; margin: 20px\"/>"
   ]
  },
  {
   "cell_type": "code",
   "execution_count": null,
   "id": "2dbfa5c664dba9c2",
   "metadata": {},
   "outputs": [],
   "source": [
    "# Hier die einfachste Funktion überhaupt, die wir ganz am Anfang schon kennengelernt haben. Sie hat weder Input, noch Output\n",
    "def hello_world():\n",
    "    print('Hello world!')\n",
    "\n",
    "# Führen wir die Funktion also einmal aus:\n",
    "hello_world()"
   ]
  },
  {
   "cell_type": "markdown",
   "id": "485d8976a15e064a",
   "metadata": {},
   "source": [
    "<div style=\"background-color: #D6E9C6; padding: 10px; border-radius: 5px; overflow: hidden; border: 2px solid #4A7C59; margin-bottom: 10px;\">\n",
    "    \n",
    "<b>KONTEXT:</b> Wie oben bereits erwähnt, sind Funktionen, wie Werkzeuge, die wir immer wieder an verschiedenen Stellen verwenden können. Unser Hangman-Spiel wollen wir aus einer Reihe von Funktionen zusammenbauen, die jeweils eine einzelne kleine Aufgabe erfüllen. <br>\n",
    "    Wir haben uns bereits erarbeitet, wie die Spielerin im Spiel begrüßt wird und wie sie Buchstaben raten kann, indem sie diese mithilfe des `input`-Befehls eingibt. Diese Funktionalitäten und auch alles weitere, was wir für das Spiel noch brauchen, wollen wir in einzelne Funktionen 'verpacken'. Erst ganz am Ende werden wir dann alles zusammenführen in einer übergreifenden Funktion, die nach und nach all unsere Funktionen aufruft. \n",
    "Damit das alles am Ende reibungslos funktioniert, haben wir die Namen für die Funktionen schon vorgegeben. <b>Ändere die Namen der Funktionen also bitte nicht!</b>\n",
    "</div>\n",
    "<div style=\"background-color: #D1ECF1; padding: 10px; border-radius: 5px; overflow: hidden; border: 2px solid #2A6173; margin-bottom: 10px;\">\n",
    "    <b>Aufgabe:</b> Schreibe folgende zwei Funktionen: <br>\n",
    "\n",
    "1. Eine Funktion, die von einer Zahl eins abzieht. Zum Beispiel soll für den Input 5 die Zahl 4 zurückgegeben werden.\n",
    "</div>\n",
    "<div style=\"background-color: #D6E9C6; padding: 10px; border-radius: 5px; overflow: hidden; border: 2px solid #4A7C59;\">\n",
    "        <img src=\"msc/img/Leben_verringern2.png\" style=\"width:200px; margin: 20px; float: right\"/>\n",
    "        <img src=\"msc/img/Leben_verringern1.png\" style=\"width:200px; margin: 20px; float: right\"/>\n",
    "    <b>KONTEXT:</b> Diese Funktion wollen wir später Verwenden, um von der Variable, unter der wir die Anzahl der 'Leben', also der Versuche gespeichert haben, eins abzuziehen. Natürlich nur, wenn falsch geraten wurde.\n",
    "</div>\n",
    "\n"
   ]
  },
  {
   "cell_type": "code",
   "execution_count": 3,
   "id": "4d2bd55bd3f8e2c0",
   "metadata": {},
   "outputs": [],
   "source": [
    "# Hier haben wir den Namen bereits vorgegeben, da wir diese Funktion später nochmal verwenden wollen.\n",
    "# Ändere den Namen also bitte nicht!\n",
    "\n",
    "# TODO: schreibe den Inhalt der Funktion. 'leben' soll hier eine ganze Zahl sein\n",
    "\n",
    "def verringere_um_eins(leben):\n",
    "    #schreibe hier deine Funktion\n",
    "    #sie soll vom Input-Wert leben Eins abziehen und den neuen Wert als Output zurückgeben.\n",
    "    return leben - 1"
   ]
  },
  {
   "cell_type": "markdown",
   "id": "608d20fc57d23999",
   "metadata": {},
   "source": [
    "<div style=\"background-color: #F5E1A4; padding: 10px; border-radius: 5px; overflow: hidden; border: 2px solid #8B6F47;\">\n",
    "    Im folgenden Feld kannst du deine Funktion einmal ausführen. Denke daran vorher das Feld oben, in dem Du deine Funktion geschrieben hast mit <b>SHIFT +  ENTER</b> (⇧ + ↵ ) einmal auszuführen.\n",
    "</div>\n"
   ]
  },
  {
   "cell_type": "code",
   "execution_count": 4,
   "id": "d79e78c85664ee",
   "metadata": {},
   "outputs": [
    {
     "data": {
      "text/plain": [
       "6"
      ]
     },
     "execution_count": 4,
     "metadata": {},
     "output_type": "execute_result"
    }
   ],
   "source": [
    "verringere_um_eins(7)"
   ]
  },
  {
   "cell_type": "markdown",
   "id": "b70ecdc99abea58a",
   "metadata": {},
   "source": [
    "<div style=\"background-color: #D1ECF1; padding: 10px; border-radius: 5px; overflow: hidden; border: 2px solid #2A6173; margin-bottom: 10px;\">\n",
    "\n",
    "2. Schreibe eine Funktion, die das Hangman-Spiel eröffnet, indem du mit `print`-Befehlen eine Begrüßung ausgibst. <br>\n",
    "    Stell Dir vor das Spiel wird gestartet.\n",
    "    Was soll die Spielerin dann sehen und lesen? Vielleicht kannst du die Begrüßung sogar personalisieren, indem du den Namen erfragst und mit Hilfe von `input` einbindest.\n",
    "</div>\n",
    "<div style=\"background-color: #D6E9C6; padding: 10px; border-radius: 5px; overflow: hidden; border: 2px solid #4A7C59;\">\n",
    "                <img src=\"msc/img/Starte_hangman3.png\" style=\"width:200px; margin: 20px; float: right\"/>\n",
    "            <img src=\"msc/img/Starte_hangman1.png\" style=\"width:200px; margin: 20px; float: right\"/>\n",
    "    <b>KONTEXT:</b> Begrüßung am Anfang des Spiels soll nun in eine Funktion verpackt werden. Alles Wissen dazu haben wir uns oben schon angeeignet.\n",
    "</div>\n",
    "\n",
    "\n"
   ]
  },
  {
   "cell_type": "code",
   "execution_count": null,
   "id": "3e68b1d28826e56a",
   "metadata": {},
   "outputs": [],
   "source": [
    "# TODO: Schreibe eine Funktion, die am Anfang des Spieles die Spielerin begrüßt\n",
    "# Tipp: Diese Funktion braucht keinen Output.\n",
    "\n",
    "def kündige_spieleröffnung_an():\n",
    "    # schreibe hier mit Hilfe von print-Befehlen deine Begrüßung.\n",
    "    # Die Funktion hat weder einen Input, noch einen Output."
   ]
  },
  {
   "cell_type": "markdown",
   "id": "e348bd81f3873197",
   "metadata": {},
   "source": [
    "<div style=\"background-color: #F5E1A4; padding: 10px; border-radius: 5px; overflow: hidden; border: 2px solid #8B6F47;\">\n",
    "    Wir wollen einmal testen, ob alles so läuft, wie Du es dir vorgestellt hast.\n",
    "</div>\n"
   ]
  },
  {
   "cell_type": "code",
   "execution_count": null,
   "id": "b3881f0fc8f66e2b",
   "metadata": {},
   "outputs": [],
   "source": [
    "kündige_spieleröffnung_an()"
   ]
  },
  {
   "cell_type": "markdown",
   "id": "2323a8bb",
   "metadata": {},
   "source": [
    "## `in`, `.upper` und `.lower`"
   ]
  },
  {
   "cell_type": "markdown",
   "id": "ea6bb890",
   "metadata": {},
   "source": [
    "<div style=\"background-color: #D6E9C6; padding: 10px; border-radius: 5px; overflow: hidden; border: 2px solid #4A7C59; margin-bottom: 10px;\">\n",
    "   \n",
    "   <b>KONTEXT</b>: Wir haben nun die Spieleröffnung programmiert und dabei schon einige wichtige Werkzeuge kennengelert. Über den `print`-Befehl können wir Ausgaben erzeugen und mit dem `input`-Befehl können wir Eingaben entgegennehmen. Bisher haben wir nur den Namen der Spielerin entgegengenommen. Später wollen wir damit aber auch die Eingabe eines Buchstabens realisieren. So können Buchstaben geraten und dann vom Programm geprüft werden.\n",
    "    <br>Bei jedem eingegebenen Buchstaben prüfen wir, ob dieser in unserem Lösungswort vorhanden ist. Dazu lernen wir den Befehl `in` von Python kennen.<br>\n",
    "</div>\n",
    "\n"
   ]
  },
  {
   "cell_type": "markdown",
   "id": "583e09ed",
   "metadata": {},
   "source": [
    "<div style=\"background-color: #F5E1A4; padding: 10px; border-radius: 5px; overflow: hidden; border: 2px solid #8B6F47;\">\n",
    "    Wir definieren uns zunächst ein Wort, was wir als Variable speichern:\n",
    "</div>\n"
   ]
  },
  {
   "cell_type": "code",
   "execution_count": null,
   "id": "072ccb4c",
   "metadata": {},
   "outputs": [],
   "source": [
    "list_path = 'Hase'"
   ]
  },
  {
   "cell_type": "markdown",
   "id": "0e26cf99",
   "metadata": {},
   "source": [
    "<div style=\"background-color: #F5E1A4; padding: 10px; border-radius: 5px; overflow: hidden; border: 2px solid #8B6F47;\">\n",
    "    Wenn wir nun prüfen wollen, ob ein Buchstabe in unserem Wort enthalten ist, geben wir folgendes ein:\n",
    "</div>"
   ]
  },
  {
   "cell_type": "code",
   "execution_count": null,
   "id": "adb1f122",
   "metadata": {},
   "outputs": [],
   "source": [
    "# Wenn du diese Zelle abspielst sollte Python eine Boolean (True oder False, siehe oben) zurückgeben.\n",
    "'a' in list_path"
   ]
  },
  {
   "cell_type": "markdown",
   "id": "0c4c15d6",
   "metadata": {},
   "source": [
    "<div style=\"background-color: #F5E1A4; padding: 10px; border-radius: 5px; overflow: hidden; border: 2px solid #8B6F47;\">\n",
    "    Wir sehen, dass uns der Wert <b>True</b>, also wahr zurückgegeben wird. Das sollte ja auch so sein. Wenn wir nun\n",
    "</div> "
   ]
  },
  {
   "cell_type": "code",
   "execution_count": null,
   "id": "2bbc0847",
   "metadata": {},
   "outputs": [],
   "source": [
    "'p' in list_path"
   ]
  },
  {
   "cell_type": "markdown",
   "id": "b7bcd270",
   "metadata": {},
   "source": [
    "<div style=\"background-color: #F5E1A4; padding: 10px; border-radius: 5px; overflow: hidden; border: 2px solid #8B6F47;\">\n",
    "    ausprobieren, wird wie erwartet False, also falsch zurückgegeben. Probiere einmal selbst aus, was passiert, wenn du ein paar Buchstaben testest. <br>\n",
    "    Spiele insbesondere mal mit Groß- und Kleinschreibung herum.\n",
    "</div>\n",
    "\n"
   ]
  },
  {
   "cell_type": "code",
   "execution_count": null,
   "id": "6c4270b1",
   "metadata": {},
   "outputs": [],
   "source": [
    "# TODO Probiere hier aus, was bei Groß- und Kleinschreibung funktioniert."
   ]
  },
  {
   "cell_type": "markdown",
   "id": "82235aab",
   "metadata": {},
   "source": [
    "<div style=\"background-color: #F5E1A4; padding: 10px; border-radius: 5px; overflow: hidden; border: 2px solid #8B6F47;\">\n",
    "    Du wirst feststellen, dass Python den Buchstaben 'w' nicht im Wort wiederfindet, sondern nur 'W'. Ebenso wird für 'A' False zurückgegeben, für 'a' allerdings True. Dies soll in unserem Hangman-Spiel kein Problem darstellen. Um dies also zu umgehen wollen wir alle Wörter und Buchstaben mit denen wir hantieren groß schreiben oder alle klein schreiben. Dazu gibt es die folgenden Befehle:\n",
    "</div>\n",
    "\n"
   ]
  },
  {
   "cell_type": "markdown",
   "id": "b7becaf2",
   "metadata": {},
   "source": [
    "### `.upper`"
   ]
  },
  {
   "cell_type": "code",
   "execution_count": 1,
   "id": "4278b9cb",
   "metadata": {},
   "outputs": [
    {
     "name": "stdout",
     "output_type": "stream",
     "text": [
      "Hase HASE\n"
     ]
    }
   ],
   "source": [
    "# Wir nehmen uns wieder unser Wort von oben \n",
    "list_path = 'Hase'\n",
    "\n",
    "# Mit dem folgenden Befehl können wir das gesamte Word großschreiben:\n",
    "wort_upper=list_path.upper()\n",
    "\n",
    "# Wir geben uns die neuen Varianten der Variable wort einmal aus, um zu sehen, was genau passiert ist\n",
    "print(list_path, wort_upper)"
   ]
  },
  {
   "cell_type": "markdown",
   "id": "e8432916",
   "metadata": {},
   "source": [
    "### `.lower`"
   ]
  },
  {
   "cell_type": "code",
   "execution_count": 2,
   "id": "65e83223",
   "metadata": {},
   "outputs": [
    {
     "name": "stdout",
     "output_type": "stream",
     "text": [
      "Hase hase\n"
     ]
    }
   ],
   "source": [
    "# Und mit diesem Befehl wird das ganze Wort kleingeschrieben:\n",
    "wort_lower=list_path.lower()\n",
    "\n",
    "# Wir geben uns die neuen Varianten der Variable wort einmal aus, um zu sehen, was genau passiert ist\n",
    "print(list_path, wort_lower)"
   ]
  },
  {
   "cell_type": "markdown",
   "id": "b35f9174",
   "metadata": {},
   "source": [
    "<div style=\"background-color: #D1ECF1; padding: 10px; border-radius: 5px; overflow: hidden; border: 2px solid #2A6173;\">\n",
    "    <img src=\"msc/img/Rate_buchstaben2.png\" style=\"width:200px; margin: 20px; float: right\"/>\n",
    "    <img src=\"msc/img/Rate_buchstaben1.png\" style=\"width:200px; margin: 20px; float: right\"/>\n",
    "\n",
    "<b>Aufgabe:</b> Vervollständige `erhalte_großbuchstaben()`. <br>\n",
    "Die Funktion soll den eingebenen Buchstaben als <b>Großbuchstaben </b> zurückgeben. Später werden wir diese Funktion noch durch weitere Funktionalitäten ergänzen, aber hier fangen wir schonmal an, mit dem was wir schon gelernt haben.\n",
    "</div>\n",
    "\n"
   ]
  },
  {
   "cell_type": "code",
   "execution_count": 5,
   "id": "38b05940",
   "metadata": {},
   "outputs": [],
   "source": [
    "def erhalte_großbuchstaben(): \n",
    "    eingabebuchstabe = input(\"Gib einen einzelnen Buchstaben ein: \")\n",
    "    # gib den eingegebenen Buchstaben als Großbuchstaben zurück\n",
    "    return eingabebuchstabe.upper()"
   ]
  },
  {
   "cell_type": "markdown",
   "id": "2bc6fcff",
   "metadata": {},
   "source": [
    "<div style=\"background-color: #F5E1A4; padding: 10px; border-radius: 5px; overflow: hidden; border: 2px solid #8B6F47;\">\n",
    "    Hier kannst du wie immer deine Funktion ausprobieren.\n",
    "</div>\n"
   ]
  },
  {
   "cell_type": "code",
   "execution_count": 6,
   "id": "5b41a56f",
   "metadata": {},
   "outputs": [
    {
     "name": "stdin",
     "output_type": "stream",
     "text": [
      "Gib einen einzelnen Buchstaben ein:  d\n"
     ]
    },
    {
     "name": "stdout",
     "output_type": "stream",
     "text": [
      "D\n"
     ]
    }
   ],
   "source": [
    "geratener_buchstabe = erhalte_großbuchstaben()\n",
    "print(geratener_buchstabe)"
   ]
  },
  {
   "cell_type": "markdown",
   "id": "8b9175452459207a",
   "metadata": {},
   "source": [
    "## `if` und `else`"
   ]
  },
  {
   "cell_type": "markdown",
   "id": "32bfb6a0d48d6cf9",
   "metadata": {},
   "source": [
    "<div style=\"background-color: #D6E9C6; padding: 10px; border-radius: 5px; overflow: hidden; border: 2px solid #4A7C59; margin-bottom: 10px;\">\n",
    "    <img src=\"msc/img/Bewerte_buchstaben1.png\" style=\"width:400px; margin: 20px; float: right\"/>\n",
    "    <b>KONTEXT:</b> In unserem Programm müssen wir an verschiedenen Stellen Entscheidungen treffen. Zum Beispiel, muss nach jedem Zug geprüft werden, ob ein Buchstabe richtig geraten wurde. Oder ob wir noch Versuche übrig haben. Diese Entscheidungen basieren auf Bedingungen.\n",
    "</div>\n",
    "<div style=\"background-color: #F5E1A4; padding: 10px; border-radius: 5px; overflow: hidden; border: 2px solid #8B6F47;\">\n",
    "\n",
    "In Python verwenden wir die Schlüsselwörter `if` (<i>wenn</i>) und `else` (<i>sonst</i>), um solche Entscheidungen umzusetzen. Dabei prüfen wir eine Bedingung und führen abhängig von ihrem Ergebnis unterschiedliche Aktionen aus. Dabei müssen wir oft <b>Vergleiche</b> zwischen Werten anstellen, um Entscheidungen zu treffen.\n",
    "\n",
    "Mit **Vergleichsoperatoren** kannst du überprüfen, wie zwei Werte zueinander stehen. Die häufigsten Vergleichsoperatoren in Python sind:\n",
    "\n",
    "- `>` (größer als)\n",
    "- `<` (kleiner als)\n",
    "- `>=` (größer oder gleich)\n",
    "- `<=` (kleiner oder gleich)\n",
    "- `==` (gleich)\n",
    "- `!=` (ungleich) <br>\n",
    "\n",
    "Weiterhin können wir mit dem Befehl `not` eine Aussage verneinen. Und mit dem Operator `and` mehrere Aussagen gleichzeitig überprüfen.\n",
    "\n",
    "Hier ein Beispiel dazu:\n",
    "\n",
    "</div>\n",
    "\n"
   ]
  },
  {
   "cell_type": "markdown",
   "id": "e9551172",
   "metadata": {},
   "source": [
    "### Beispiel 1 (`if` und `else`):"
   ]
  },
  {
   "cell_type": "code",
   "execution_count": null,
   "id": "7e7db6986cf65f3",
   "metadata": {},
   "outputs": [],
   "source": [
    "# Beachte, dass wir in Python, um zwei Werte zu vergleichen ==, statt nur einem Gleichheitszeichen verwenden müssen.\n",
    "# TODO: Probiere aus, was passiert, wenn Du das Alter änderst.\n",
    "#       Schreibe dazu eine andere Zahl in die Variable alter und führe die Zelle dann erneut aus.\n",
    "alter=11\n",
    "#wenn das Alter kleiner ist als 18\n",
    "if alter<18:\n",
    "    # dann führe folgenden Befehl aus:\n",
    "    print('Du bist minderjährig.')\n",
    "#sonst,\n",
    "else:\n",
    "    # führe diese Anweisung aus:\n",
    "    print('Du bist eine ausgewachsene Person.')"
   ]
  },
  {
   "cell_type": "markdown",
   "id": "1994b4ce",
   "metadata": {},
   "source": [
    "### Beispiel 2 (`not`):"
   ]
  },
  {
   "cell_type": "code",
   "execution_count": null,
   "id": "d1ef09d0",
   "metadata": {},
   "outputs": [
    {
     "name": "stdout",
     "output_type": "stream",
     "text": [
      "Bei dieser Temperatur hat Wasser seine geringste Dichte.\n"
     ]
    }
   ],
   "source": [
    "# Hier sehen wir, wie der Befehl 'not' funktioniert.\n",
    "#TODO: Ändere die Temperatur und probiere aus, was für eine Ausgabe das Programm dann erzeugt.\n",
    "\n",
    "temperatur=4\n",
    "\n",
    "if not temperatur == 4:\n",
    "    # dann führe folgenden Befehl aus:\n",
    "    print('Wasser hat bei dieser Temperatur nicht seine geringste Dichte.')\n",
    "#sonst,\n",
    "else:\n",
    "    # führe diese Anweisung aus:\n",
    "    print('Bei dieser Temperatur hat Wasser seine geringste Dichte.')"
   ]
  },
  {
   "cell_type": "markdown",
   "id": "9fac15d904e31f61",
   "metadata": {},
   "source": [
    "### Mehrere Bedingungen\n",
    "\n",
    "<div style=\"background-color: #F5E1A4; padding: 10px; border-radius: 5px; overflow: hidden; border: 2px solid #8B6F47;\">\n",
    "\n",
    "Wir können nun also eine <i>Bedingung </i> prüfen und angeben, was passieren soll, wenn sie erfüllt (`if`) bzw. nicht erfüllt(`else`) ist:\n",
    "\n",
    "- **Wenn** <i>es regnet </i>, dann nehme ich einen Regenschirm.\n",
    "- **sonst** brauche ich keinen Regenschirm.\n",
    "\n",
    "Manchmal möchten wir aber mehr als eine Bedingung auf einmal prüfen, zum Beispiel:\n",
    "\n",
    "- **Wenn** <i>es jetzt regnet</i>, dann nehme ich einen Regenschirm mit.\n",
    "- **Wenn es ansonsten** <i>im Verlaufe des Tages zu regnen beginnen soll</i>, dann nehme ich einen Regenschirm mit.\n",
    "- **sonst** brauche ich keinen Regenschirm.\n",
    "\n",
    "Für die weitere Bedingung schreiben wir `elif` (und dann die weitere Bedingung), was eine Abkürzung für **else if** (ansonsten, wenn). `elif` kann nur nach einem `if` eingesetzt werden und die dort angegebene Bedingung wird nur geprüft, falls das `if` davor nicht wahr gewesen ist.\n",
    "Das folgende Beispiel zeigt, wie wir diese Logik in Python umsetzen können:\n",
    "\n",
    "</div>\n"
   ]
  },
  {
   "cell_type": "markdown",
   "id": "6a04d490",
   "metadata": {},
   "source": [
    "### Beispiel 3 (`if`, `elif` und `else`):"
   ]
  },
  {
   "cell_type": "code",
   "execution_count": 12,
   "id": "a0002628270705b6",
   "metadata": {},
   "outputs": [
    {
     "name": "stdout",
     "output_type": "stream",
     "text": [
      "Es regnet gerade, du brauchst einen Regenschirm!\n"
     ]
    }
   ],
   "source": [
    "# Wir nehmen an, dass es gerade regnet, aber später trocken ist.\n",
    "# TODO: Ändere die Werte der Variablen auf andere Booleans, um zu testen, wie das Programm auf anderes Wetter reagiert.\n",
    "#       Nach jeder Änderung musst Du wie gewohnt die Zelle erneut ausführen.\n",
    "regen_jetzt = True\n",
    "regen_später = False\n",
    "\n",
    "# Mit IF, ELIF und ELSE prüfen wir die Bedingung:\n",
    "# \"Wenn es regnet, tue ...\"\n",
    "if regen_jetzt == True: #in Python muss man zwei \"=\" nutzen, wenn man etwas vergleichen möchte\n",
    "    print(\"Es regnet gerade, du brauchst einen Regenschirm!\")\n",
    "#\"Wenn es später regnet, tue...\"\n",
    "elif regen_später == True:\n",
    "    print(\"Es soll später noch regnen, nimm also lieber einen Regenschirm mit!\")\n",
    "#\"Sonst tue etwas anderes ...\"\n",
    "else:\n",
    "    print(\"Heute ist es trocken, du brauchst keinen Regenschirm!\")"
   ]
  },
  {
   "cell_type": "markdown",
   "id": "6ce85ad0",
   "metadata": {},
   "source": [
    "### Beispiel 4 (`and`):"
   ]
  },
  {
   "cell_type": "code",
   "execution_count": null,
   "id": "4238f867",
   "metadata": {},
   "outputs": [
    {
     "name": "stdout",
     "output_type": "stream",
     "text": [
      "Geh ein Eis essen!\n"
     ]
    }
   ],
   "source": [
    "# Hier sehen wir, wie der Befehl 'and' funktioniert und angewendet werden kann.\n",
    "# TODO: Probiere aus, was passiert, wenn Du die Werte der Variablen änderst.\n",
    "\n",
    "jahreszeit = 'sommer' # hier 'sommer' oder 'winter' eingeben.\n",
    "vorliebe = 'suess' # hier 'suess' oder 'salzig' eingeben.\n",
    "\n",
    "if jahreszeit=='sommer' and vorliebe=='suess':\n",
    "    # dann führe folgenden Befehl aus:\n",
    "    print('Geh ein Eis essen!')\n",
    "#oder\n",
    "elif jahreszeit=='sommer' and vorliebe=='salzig':\n",
    "    # dann führe folgenden Befehl aus:\n",
    "    print('Geh eine Brezel essen!')\n",
    "#oder\n",
    "elif jahreszeit=='winter' and vorliebe=='suess':\n",
    "    # dann führe folgenden Befehl aus:\n",
    "    print('Trinke eine heiße Schokolade!')\n",
    "#sonst,\n",
    "else:\n",
    "    # führe diese Anweisung aus:\n",
    "    print('Geh eine Zwiebelsuppe essen!')"
   ]
  },
  {
   "cell_type": "markdown",
   "id": "162a88ed865cb877",
   "metadata": {},
   "source": [
    "<div style=\"background-color: #D6E9C6; padding: 10px; border-radius: 5px; overflow: hidden; border: 2px solid #4A7C59; margin-bottom: 10px;\">\n",
    "    <img src=\"msc/img/Noch_im_spiel2.png\" style=\"width:200px; margin: 20px; float: right\"/>\n",
    "    <img src=\"msc/img/Noch_im_spiel1.png\" style=\"width:200px; margin: 20px; float: right\"/>\n",
    "   <b>KONTEXT: </b Zurück zur Anwendung in unserem Hangman Spiel:\n",
    "\n",
    "Nach jedem Zug in unserem Hangman-Spiel müssen wir prüfen, ob das Spiel nun beendet ist. Dazu prüfen wir folgende Bedingungen:\n",
    "\n",
    "- **Wenn das Wort im vergangenen Zug vollständing erraten wurde**, dann hat die Spielerin gewonnen.\n",
    "\n",
    "- **Wenn der Hangman vollständig gezeichnet ist, wir also keine Versuche mehr übrig haben**, dann ist das Spiel verloren.\n",
    "\n",
    "Ist keine der Bedingungen erfüllt, geht das Spiel einfach weiter.\n",
    "\n",
    "Wir sehen also, dass unsere Anwendung genau die gleiche Struktur hat, wie das Wetter-Beispiel von oben. Wir wollen die oben gelernte Methode also nun für unser Spiel verwenden.\n",
    "</div>\n",
    "<div style=\"background-color: #D1ECF1; padding: 10px; border-radius: 5px; overflow: hidden; border: 2px solid #2A6173;\">\n",
    "\n",
    "<b>Aufgabe:</b> Vervollständige die folgende Funktion, die obige Bedingungen prüft. <br>\n",
    "Dabei benutzen wir folgende Inputs:\n",
    "- `erratenes_teilwort`: hat diese Form `['H', '_', 'L', 'L', '_']`, falls im Wort 'Hallo' schon die Buchstaben H und L erraten wurden. Es ist also eine Liste aus Strings. Was genau eine Liste ist und wie wir damit arbeiten, lernen wir gleich. Hier ist alles, was wir brauchen, schon vorgegeben.\n",
    "- `erlaubte_fehlversuche`: ist eine ganze Zahl, die der Funktion als Input übergeben wird. Damit merken wir uns, wie viele Leben die Spielerin noch hat\n",
    "</div>\n",
    "\n",
    "\n"
   ]
  },
  {
   "cell_type": "code",
   "execution_count": 9,
   "id": "7e1eadc83f07e897",
   "metadata": {},
   "outputs": [],
   "source": [
    "# Die Funktion soll TRUE zurückgeben, wenn das Spiel nach dem eben gemachten Zug noch weitergehen kann\n",
    "# Ist das Spiel nach dem vergangenen Zug gewonnen oder verloren, soll FALSE zurückgegeben werden\n",
    "\n",
    "def ist_das_spiel_noch_am_laufen(erratenes_teilwort, erlaubte_fehlversuche):\n",
    "    # mit dem Befehl 'not' können wir eine Bedingung verneinen.\n",
    "    if (not (\"_\" in erratenes_teilwort)): #die Unterstriche sind Platzhalter für noch nicht erratene Buchstaben \n",
    "        # füge hier einen print-Befehl ein, der eine diesem Fall entsprechende Ausgabe ausgibt\n",
    "        return False #True oder False?\n",
    "\n",
    "    elif erlaubte_fehlversuche > 0: # prüfe hier ob noch Versuche übrig sind. Die Variable erlaubteFehlversuche ist eine normale Zahl\n",
    "        # füge hier einen print-Befehl ein, der eine diesem Fall entsprechende Ausgabe ausgibt\n",
    "        return True#True oder False?\n",
    "\n",
    "    else:\n",
    "        return False #True oder False?"
   ]
  },
  {
   "cell_type": "markdown",
   "id": "edefa39f",
   "metadata": {},
   "source": [
    "<div style=\"background-color: #F5E1A4; padding: 10px; border-radius: 5px; overflow: hidden; border: 2px solid #8B6F47;\">\n",
    "    Hier kannst du einmal testen, ob alles so läuft, wie Du es dir vorgestellt hast.\n",
    "</div>"
   ]
  },
  {
   "cell_type": "code",
   "execution_count": 14,
   "id": "e4e33591",
   "metadata": {},
   "outputs": [
    {
     "name": "stdout",
     "output_type": "stream",
     "text": [
      "False\n",
      "False\n",
      "True\n"
     ]
    }
   ],
   "source": [
    "#das Wort ist vollständig erraten\n",
    "print(ist_das_spiel_noch_am_laufen([\"H\", \"E\", \"Y\"], 5))\n",
    "#die Leben sind aufgebraucht\n",
    "print(ist_das_spiel_noch_am_laufen([\"H\", \"_\", \"_\"], 0))\n",
    "#sonst\n",
    "print(ist_das_spiel_noch_am_laufen([\"H\", \"_\", \"_\"], 6))"
   ]
  },
  {
   "cell_type": "markdown",
   "id": "21d61f09af312580",
   "metadata": {},
   "source": [
    "## Listen"
   ]
  },
  {
   "cell_type": "markdown",
   "id": "85879b55d4486d3c",
   "metadata": {},
   "source": [
    "<div style=\"background-color: #D6E9C6; padding: 10px; border-radius: 5px; overflow: hidden; border: 2px solid #4A7C59; margin-bottom: 10px;\">\n",
    "    <img src=\"msc/img/Starte_hangman1.png\" style=\"width:200px; margin: 20px; float: right\"/>\n",
    "    <b>KONTEXT:</b> Für unser Hangman-Spiel müssen wir uns merken, welche Teile des Wortes wir schon erraten haben und welche noch nicht, wie machen wir das?\n",
    "</div>\n",
    "<div style=\"background-color: #F5E1A4; padding: 10px; border-radius: 5px; overflow: hidden; border: 2px solid #8B6F47;\">\n",
    "\n",
    "   Wir können natürlich für jeden Buchstaben eine neue Variable nutzen, aber wie merken wir uns dann die Reihenfolge? Und was würden wir machen, wenn sich die Länge des Wortes ändert? Dann müssten wir noch mehr Variablen einführen... <br>\n",
    "    Das wird sehr schnell unübersichtlich, deswegen gibt es in Python <b>Listen</b>. <br> \n",
    "Listen schreibt man in Python mit eckigen Klammern. Zum Beispiel ist `erratenes_teilwort = [\"H\", \"_\", \"L\", \"L\", \"_\"]` eine Liste, die an der ersten Stelle ein H enthält, dann einen Unterstrich, dann zwei Ls und dann noch einen Unterstrich (das könnte ein Zwischenstand von unserem Hangman-Spiel sein).<br><br>\n",
    "        Das, was man in die Liste gepackt hat, kann man sich auch wieder einzeln anschauen. Dafür schreibt man den Namen der Liste und danach in eckigen Klammern die Position in der Liste, die man haben möchte, also zum Beispiel `erratenes_teilwort[0]`.\n",
    "<br><br>\n",
    "    \n",
    "***ACHTUNG:*** Python fängt bei `0` an zu zählen! <br>\n",
    "Probier es einfach mal selbst aus:\n",
    "</div>\n",
    "\n",
    "\n"
   ]
  },
  {
   "cell_type": "code",
   "execution_count": 6,
   "id": "73f2863bbe9a90d",
   "metadata": {},
   "outputs": [
    {
     "name": "stdout",
     "output_type": "stream",
     "text": [
      "H\n"
     ]
    }
   ],
   "source": [
    "# wir erstellen hier die Liste mit Buchstaben drin\n",
    "erratenes_teilwort = [\"H\", \"_\", \"L\", \"L\", \"_\"] \n",
    "\n",
    "# wir lassen uns den \"nullten\" (also ersten) Buchstaben aus der Liste ausgeben\n",
    "print(erratenes_teilwort[0])\n",
    "\n",
    "# TODO: verändere die Zahl in den eckigen Klammern und schau, was passiert.\n",
    "#  Was passiert, wenn man eine Zahl eingibt, die größer ist, als die Länge der Liste?"
   ]
  },
  {
   "cell_type": "markdown",
   "id": "5088fd4b75e8c43d",
   "metadata": {},
   "source": [
    "<div style=\"background-color: #F5E1A4; padding: 10px; border-radius: 5px; overflow: hidden; border: 2px solid #8B6F47;\">\n",
    "\n",
    "   Wir können die Liste auch verändern. Dafür schreiben wir wie beim Ausgeben der Elemente den Namen der Liste, dahinter in eckigen Klammern die Position, die man verändern möchte und dann ein `=` mit dem Wert dahinter, durch den wir das Element ersetzen wollen. \n",
    "</div>\n"
   ]
  },
  {
   "cell_type": "code",
   "execution_count": null,
   "id": "270431fd8cce5f9e",
   "metadata": {},
   "outputs": [],
   "source": [
    "# wir ändern den ersten Buchstaben in der Liste \"erratenes_teilwort\" zu einem \"b\"\n",
    "erratenes_teilwort[1] = \"A\"\n",
    "print(erratenes_teilwort)\n",
    "\n",
    "# TODO: spiel ruhig etwas damit herum und \n",
    "# versucht z.B. \"hallo\" zu printen, indem du Buchstaben aus der Liste benutzt"
   ]
  },
  {
   "cell_type": "markdown",
   "id": "685cabee960c1e7b",
   "metadata": {},
   "source": [
    "<div style=\"background-color: #F5E1A4; padding: 10px; border-radius: 5px; overflow: hidden; border: 2px solid #8B6F47;\">\n",
    "\n",
    "   Manchmal wollen wir auch wissen, wie lang eine Liste gerade ist. Dafür können wir `len(name_der_liste)` nutzen.\n",
    "</div>\n"
   ]
  },
  {
   "cell_type": "code",
   "execution_count": null,
   "id": "bfee670f328dfa41",
   "metadata": {},
   "outputs": [],
   "source": [
    "# wir lassen uns die Länge der Liste \"erratenes_teilwort\" ausgeben\n",
    "print(len(erratenes_teilwort))"
   ]
  },
  {
   "cell_type": "markdown",
   "id": "a7801bef306f364b",
   "metadata": {},
   "source": [
    "<div style=\"background-color: #F5E1A4; padding: 10px; border-radius: 5px; overflow: hidden; border: 2px solid #8B6F47;\">\n",
    "\n",
    "   Vielleicht ist dir gerade aufgefallen, dass die Liste `erratenes_teilwort` gerade immer die Länge 5 hat. Wir können deswegen auch nur fünf verschiedene Buchstaben dort hineinpacken.\n",
    "\n",
    "Wenn wir die Liste länger machen wollen, müssten wir Python direkt sagen, dass neue Elemente an die Liste angehängt werden sollen.\n",
    "Dafür nutzen wir `.append()` (Englisch für anhängen). \n",
    "</div>\n",
    "\n"
   ]
  },
  {
   "cell_type": "code",
   "execution_count": null,
   "id": "3c04a56e732a8f82",
   "metadata": {},
   "outputs": [],
   "source": [
    "# wir hängen ein \"!\" an die Liste \"erratenes_teilwort\"\n",
    "erratenes_teilwort.append(\"!\")\n",
    "print(erratenes_teilwort)\n",
    "\n",
    "# TODO: Wie lang ist die Liste jetzt?"
   ]
  },
  {
   "cell_type": "code",
   "execution_count": null,
   "id": "0774dff2",
   "metadata": {},
   "outputs": [],
   "source": [
    "# TODO: versuche die Liste \"erratenes_teilwort\" so zu verändern, dass du damit \n",
    "# deinen eigenen Namen schreiben kannst "
   ]
  },
  {
   "cell_type": "markdown",
   "id": "7eb30fc70e538867",
   "metadata": {},
   "source": [
    "<div style=\"background-color: #F5E1A4; padding: 10px; border-radius: 5px; overflow: hidden; border: 2px solid #8B6F47;\">\n",
    "    Wir können außerdem nicht nur Buchstaben in Listen packen, sondern alles mögliche (z.B. Zahlen) und sogar andere Listen.\n",
    "</div>\n"
   ]
  },
  {
   "cell_type": "code",
   "execution_count": 7,
   "id": "95b9c07502581e82",
   "metadata": {},
   "outputs": [
    {
     "name": "stdout",
     "output_type": "stream",
     "text": [
      "[2, 5, 6, 12, 14]\n",
      "2\n"
     ]
    }
   ],
   "source": [
    "# hier ein Paar Beispiel-Listen\n",
    "zahlenliste = [2,5,6,12,14]\n",
    "listenliste = [[0,2,3], [4,2,16]]\n",
    "print(zahlenliste)\n",
    "print(listenliste[0][1])"
   ]
  },
  {
   "cell_type": "markdown",
   "id": "d9c6805caf191e45",
   "metadata": {},
   "source": [
    "## `for`-Schleifen\n"
   ]
  },
  {
   "cell_type": "markdown",
   "id": "ab98ebd7fccc79",
   "metadata": {},
   "source": [
    "<div style=\"background-color: #F5E1A4; padding: 10px; border-radius: 5px; overflow: hidden; border: 2px solid #8B6F47;\">\n",
    "\n",
    "   Stell dir vor, wir möchten uns jeden Buchstaben aus einer Liste `wort` ausgeben lassen. Eine erste Idee, um das zu tun, wäre vielleicht:\n",
    "</div>\n"
   ]
  },
  {
   "cell_type": "code",
   "execution_count": null,
   "id": "c6af8a9f75c499cd",
   "metadata": {},
   "outputs": [],
   "source": [
    "list_path = [\"h\", \"a\", \"l\", \"l\", \"o\"]\n",
    "print(list_path[0])\n",
    "print(list_path[1])\n",
    "print(list_path[2])\n",
    "print(list_path[3])\n",
    "print(list_path[4])"
   ]
  },
  {
   "cell_type": "markdown",
   "id": "14fc7ac510b04e37",
   "metadata": {},
   "source": [
    "<div style=\"background-color: #F5E1A4; padding: 10px; border-radius: 5px; overflow: hidden; border: 2px solid #8B6F47;\">\n",
    "\n",
    "   Das ist allerdings sehr viel Schreibaufwand und die Länge der Liste muss bekannt sein und sollte sich nicht ändern, deswegen ist das nicht die beste Lösung. <br>\n",
    "    Stattdessen gibt es die `for`-Schleife, um Befehle mehrmals hintereinander auszuführen. Das Beispiel oben können wir damit so umschreiben:\n",
    "</div>\n"
   ]
  },
  {
   "cell_type": "code",
   "execution_count": null,
   "id": "3e8d3ef7129959a3",
   "metadata": {},
   "outputs": [],
   "source": [
    "# wir nutzen eine for-Schleife, um jedes Element der Liste auszugeben\n",
    "for i in range(len(list_path)):\n",
    "    print(i, \". Buchstabe: \", list_path[i])\n",
    "    \n",
    "# TODO: probiere aus, was passiert, wenn du \"i\" umbenennst"
   ]
  },
  {
   "cell_type": "markdown",
   "id": "8c1dfcc51f44849",
   "metadata": {},
   "source": [
    "<div style=\"background-color: #F5E1A4; padding: 10px; border-radius: 5px; overflow: hidden; border: 2px solid #8B6F47;\">\n",
    "\n",
    "   Durch `for i in range(len(wort))` sorgen wir dabei dafür, dass `i` bei jeder Wiederholung der Schleife um eins erhöht wird, bis `i` die Länge von `wort` erreicht hat. Danach hören die Wiederholungen auf. Das `i` nutzen wir dabei als <b>Index</b>, also als Nummerierung der Elemente in der Liste. Man muss auch nicht `i` für den Index nutzen, wie aber auch schon bei der Bennung von Funktionen und Variablen hilft diese Konevention, damit andere leichter deinen Code lesen können.<br>\n",
    "<br>\n",
    "Wir können in Listen und Strings auch direkt auf die Elemente zugreifen, brauchen dann also nicht mehr explizit den  Index aufschreiben. Dafür nutzen wir die Form `for Element in String`:\n",
    "</div>\n"
   ]
  },
  {
   "cell_type": "code",
   "execution_count": null,
   "id": "22d68a03e53acd28",
   "metadata": {},
   "outputs": [],
   "source": [
    "# wir definieren einen String\n",
    "list_path = \"hangman\"\n",
    "\n",
    "# wir gehen mit einer for-Schleife durch den String \"wort\"\n",
    "# und lassen uns jeden Buchstaben ausgeben\n",
    "for buchstabe in list_path:\n",
    "    print(buchstabe)\n",
    "\n",
    "# TODO: probiere aus, was passiert, wenn du \"buchstabe\" umbenennst"
   ]
  },
  {
   "cell_type": "markdown",
   "id": "0ecc270a",
   "metadata": {},
   "source": [
    "<div style=\"background-color: #F5E1A4; padding: 10px; border-radius: 5px; overflow: hidden; border: 2px solid #8B6F47;\">\n",
    "\n",
    "Wir können innerhalb einer `for`-Schleife natürlich auch nicht nur `print()` nutzen, sondern alle anderen Dinge auch, die wir bisher gesehen haben. \n",
    "Hier ein kleines Beispiel mit einer Liste:\n",
    "</div>"
   ]
  },
  {
   "cell_type": "code",
   "execution_count": null,
   "id": "3db51cac",
   "metadata": {},
   "outputs": [],
   "source": [
    "zahlen_liste = [3,6,4,2]\n",
    "for i in range(len(zahlen_liste)):\n",
    "    zahlen_liste[i] = zahlen_liste[i]+1\n",
    "\n",
    "print(zahlen_liste)"
   ]
  },
  {
   "cell_type": "markdown",
   "id": "2509204030a8e8b6",
   "metadata": {},
   "source": [
    "<div style=\"background-color: #D6E9C6; padding: 10px; border-radius: 5px; overflow: hidden; border: 2px solid #4A7C59; margin-bottom: 10px;\">\n",
    "    <img src=\"msc/img/Starte_hangman2.png\" style=\"width:200px; margin: 20px; float: right\"/>\n",
    "    <img src=\"msc/img/Starte_hangman1.png\" style=\"width:200px; margin: 20px; float: right\"/>\n",
    "\n",
    "   <b>KONTEXT</b>: Für unser Spiel wollen wir eine Liste anlegen, die uns speichert, wie lang das Wort ist, das wir suchen. Diese Liste nennen wir `verschleiertes_wort`. Dafür soll sie für jeden Buchstaben in dem gesuchten Wort einen Unterstrich enthalten (so wie wenn man Hangman an der Tafel spielt).\n",
    "\n",
    "   Später schreiben wir dort auch alle Buchstaben rein, die wir schon gefunden haben.\n",
    "</div>\n",
    "<div style=\"background-color: #D1ECF1; padding: 10px; border-radius: 5px; overflow: hidden; border: 2px solid #2A6173;\">\n",
    "\n",
    "   <b>Aufgabe:</b> Vervollständige die Funktion `gib_verdecktes_wort`, so dass sie eine Liste zurückgibt, die einen Unterstrich \"_\" als Platzhalter für jeden Buchstaben im eingegebenen Geheimwort enthält.<br>\n",
    "Der Input `geheimwort` ist dabei ein String.\n",
    "</div>\n",
    "\n"
   ]
  },
  {
   "cell_type": "code",
   "execution_count": 14,
   "id": "6ee074a969ab3839",
   "metadata": {},
   "outputs": [],
   "source": [
    "# Diese Funktion wandelt ein gegebenes Wort in eine Liste von Unterstrichen um. Als Input bekommt sie ein Wort als String\n",
    "\n",
    "def gib_verdecktes_wort(geheimwort):    \n",
    "    verschleiertes_wort = [] #wir starten hier mit einer leeren Liste\n",
    "    #TODO: für jeden Buchstaben in \"geheimwort\" soll \n",
    "    # ein \"_\" zu \"verschleiertesWort\" hinzugefügt werden\n",
    "    for c in geheimwort:\n",
    "        verschleiertes_wort.append(\"_\")\n",
    "    return verschleiertes_wort"
   ]
  },
  {
   "cell_type": "markdown",
   "id": "b7799335ea3d3726",
   "metadata": {},
   "source": [
    "<div style=\"background-color: #F5E1A4; padding: 10px; border-radius: 5px; overflow: hidden; border: 2px solid #8B6F47;\">\n",
    "    Hier kannst du einmal testen, ob alles so funktioniert, wie du es dir vorgestellt hast:\n",
    "</div>\n"
   ]
  },
  {
   "cell_type": "code",
   "execution_count": 15,
   "id": "ff80ae41688d6178",
   "metadata": {},
   "outputs": [
    {
     "data": {
      "text/plain": [
       "['_', '_', '_', '_', '_', '_', '_']"
      ]
     },
     "execution_count": 15,
     "metadata": {},
     "output_type": "execute_result"
    }
   ],
   "source": [
    "gib_verdecktes_wort(\"hangman\")"
   ]
  },
  {
   "cell_type": "markdown",
   "id": "2374071bc00b2f2e",
   "metadata": {},
   "source": [
    "<div style=\"background-color: #D6E9C6; padding: 10px; border-radius: 5px; overflow: hidden; border: 2px solid #4A7C59; margin-bottom: 10px;\">\n",
    "    <img src=\"msc/img/Bewerte_buchstaben2.png\" style=\"width:200px; margin: 20px; float: right\"/>\n",
    "    <img src=\"msc/img/Bewerte_buchstaben1.png\" style=\"width:400px; margin: 20px; float: right\"/>\n",
    "    <b>KONTEXT:</b> Wir brauchen außerdem eine Funktion, die einen Buchstaben, der wirklich im Lösungswort vorkommt, an der richtigen Stelle einsetzt.</div>\n",
    "<div style=\"background-color: #D1ECF1; padding: 10px; border-radius: 5px; overflow: hidden; border: 2px solid #2A6173;\">\n",
    "\n",
    "   <b>Aufgabe:</b> Vervollständige die Funktion `buchstaben_aufdecken`. \n",
    "Diese erhält:\n",
    "- den eingegebenen Buchstaben (`eingabebuchstabe`)\n",
    "- das Hangman-Geheimwort, was erraten werden soll (`geheimwort`) und \n",
    "- das bisher schon erratene Teilwort (`erratenes_teilwort`), in dem für alle nicht erratenen Buchstaben noch ein \"_\" steht.\n",
    "\n",
    "Sie aktualisiert `erratenes_teilwort`, sodass an den richtigen Stellen des bisher erratenen Wortes der eingegebene Buchstabe eingesetzt, also \"_\" durch den Buchstaben ersetzt wird.\n",
    "\n",
    "Tipp: Die Funktion braucht kein `return`.\n",
    "</div>\n",
    "\n"
   ]
  },
  {
   "cell_type": "code",
   "execution_count": 16,
   "id": "9ad3fa1330bb146c",
   "metadata": {},
   "outputs": [],
   "source": [
    "def buchstaben_aufdecken(eingabebuchstabe, geheimwort, erratenes_teilwort):\n",
    "    for i in range(len(geheimwort)):\n",
    "    #TODO: wenn der eingegebene Buchstabe der gleiche Buchstabe ist wie der, der in dem Geheimwort an der Stelle i steht,\n",
    "    # dann soll in erratenes_teilwort an der Stelle i auch der eingegebene Buchstabe geschrieben werde\n",
    "        if geheimwort[i] == eingabebuchstabe:\n",
    "            erratenes_teilwort[i] = eingabebuchstabe"
   ]
  },
  {
   "cell_type": "markdown",
   "id": "bfaa07b506d12639",
   "metadata": {},
   "source": [
    "<div style=\"background-color: #F5E1A4; padding: 10px; border-radius: 5px; overflow: hidden; border: 2px solid #8B6F47;\">\n",
    "    Teste hier ruhig einmal, ob alles funktioniert:\n",
    "</div>\n"
   ]
  },
  {
   "cell_type": "code",
   "execution_count": 17,
   "id": "c8f0a952ffeca86d",
   "metadata": {},
   "outputs": [
    {
     "name": "stdout",
     "output_type": "stream",
     "text": [
      "N PYTHON ['_', '_', 'T', '_', 'O', 'N']\n"
     ]
    }
   ],
   "source": [
    "geratener_buchstabe = \"N\"\n",
    "zu_erratendes_wort = \"PYTHON\"\n",
    "bereits_erratenes_wort = [\"_\", \"_\", \"T\", \"_\", \"O\", \"_\"]\n",
    "\n",
    "buchstaben_aufdecken(geratener_buchstabe, zu_erratendes_wort, bereits_erratenes_wort)\n",
    "\n",
    "print(geratener_buchstabe, zu_erratendes_wort, bereits_erratenes_wort)"
   ]
  },
  {
   "cell_type": "markdown",
   "id": "a14587ae5ae2e13e",
   "metadata": {},
   "source": [
    "## `while`-Schleifen"
   ]
  },
  {
   "cell_type": "markdown",
   "id": "1e8382ab6a5e5d88",
   "metadata": {},
   "source": [
    "<div style=\"background-color: #F5E1A4; padding: 10px; border-radius: 5px; overflow: hidden; border: 2px solid #8B6F47;\">\n",
    "    Was aber, wenn wir <b>nicht wissen, wie oft wir etwas wiederholen müssen</b>? Stellen wir uns folgende Situationen vor:\n",
    "\n",
    "- **Wir wollen ein Spiel programmieren**, das keine feste Rundenanzahl hat, sondern so lange läuft, bis der Spieler gewinnt oder verliert.\n",
    "- **Wir suchen nach einer bestimmten Bedingung**, die erfüllt werden muss, bevor die Schleife endet (z. B. ein Passwort wird korrekt eingegeben).\n",
    "\n",
    "In solchen Fällen stoßen `for`-Schleifen an ihre Grenzen, da sie eine feste Anzahl von Wiederholungen erwarten. Stattdessen benötigen wir eine `while`-Schleife, die durch eine (Abbruch-)Bedingung gesteuert wird.\n",
    "\n",
    "**Beispiel:** Wiederholung basierend auf Benutzereingabe\n",
    "\n",
    "In diesem Beispiel wird eine `while`-Schleife verwendet, um den Benutzer so lange nach einer Eingabe zu fragen, bis er eine bestimmte Antwort gibt (in diesem Fall \"ja\").\n",
    "</div>"
   ]
  },
  {
   "cell_type": "code",
   "execution_count": null,
   "id": "813f0900505461f4",
   "metadata": {},
   "outputs": [
    {
     "name": "stdout",
     "output_type": "stream",
     "text": [
      "Du hast 'nein' eingegeben. Das Programm endet.\n"
     ]
    }
   ],
   "source": [
    "# Das folgende Programm läuft solange weiter, bis 'nein' als Antwort eingegeben wird.\n",
    "# Diese Schleife kann, wie oben beschrieben, beliebig oft durchlaufen werden.\n",
    "\n",
    "antwort = \"\"\n",
    "while antwort != \"nein\":    # zur Erinnerung: \"!=\" bedeutet in Python \"ungleich\"\n",
    "    antwort = input(\"Möchtest du weitermachen? (ja/nein): \")\n",
    "print(\"Du hast 'nein' eingegeben. Das Programm endet.\")"
   ]
  },
  {
   "cell_type": "markdown",
   "id": "67882e84",
   "metadata": {},
   "source": [
    "<div style=\"background-color: #D1ECF1; padding: 10px; border-radius: 5px; overflow: hidden; border: 2px solid #2A6173;\">\n",
    "    <img src=\"msc/img/Rate_buchstaben2.png\" style=\"width:200px; margin: 20px; float: right\"/>\n",
    "    <img src=\"msc/img/Rate_buchstaben1.png\" style=\"width:200px; margin: 20px; float: right\"/>\n",
    "\n",
    "<b>Aufgabe:</b> Vervollständige `erhalte_großbuchstaben()`. Oben haben wir schon angefangen diese Funktion zu schreiben. Was wir dort erarbeitet haben ist hier bereits in der Funktion vorgegeben. Du brauchst also nicht nach oben zu scrollen, um dein Programm zu kopieren. <br>\n",
    "    Jetzt wollen wir in der Funktion zusätzlich prüfen, ob es sich bei der Eingabe wirklich nur um <b>ein</b> Zeichen handelt und ob es wirklich aus dem Alphabet kommt (dafür kannst du `eingabebuchstabe.isalpha()` nutzen, das gibt `True` zurück, wenn alle Zeichen in `eingabebuchstabe` aus dem Alphabet kommen). <br>\n",
    "Solange das nicht erfüllt ist, printe eine Nachricht und frag noch mal nach einer Eingabe.<br>\n",
    "Die Funktion soll dann den eingebenen Buchstaben als <b>Großbuchstaben </b> zurückgeben.\n",
    "</div>\n",
    "\n"
   ]
  },
  {
   "cell_type": "code",
   "execution_count": 1,
   "id": "d71fcc9a",
   "metadata": {},
   "outputs": [],
   "source": [
    "def erhalte_großbuchstaben(): \n",
    "    eingabebuchstabe = input(\"Gib einen einzelnen Buchstaben ein: \")\n",
    "    while not (len(eingabebuchstabe) == 1 and eingabebuchstabe.isalpha()): \n",
    "    # TODO: solange wie die Länge der Eingabe nicht 1 ist  und das eingegebene nicht aus dem Alphabet kommt\n",
    "    #       gib: \"Das war kein einzelner Buchstabe.\" aus.\n",
    "    #       Frag anschließend noch mal nach einer neuen Eingabe eines Buchstaben.\n",
    "        print(\"Das war kein einzelner Buchstabe.\")\n",
    "        eingabebuchstabe = input(\"Gib einen einzelnen Buchstaben ein: \")\n",
    "\n",
    "    return eingabebuchstabe.upper() # gib den eingegebenen Buchstaben als Großbuchstaben zurück\n"
   ]
  },
  {
   "cell_type": "markdown",
   "id": "a0f6bb26",
   "metadata": {},
   "source": [
    "<div style=\"background-color: #F5E1A4; padding: 10px; border-radius: 5px; overflow: hidden; border: 2px solid #8B6F47;\">\n",
    "    Hier kannst du wie immer deine Funktion ausprobieren.\n",
    "</div>\n"
   ]
  },
  {
   "cell_type": "code",
   "execution_count": 2,
   "id": "37b0c583",
   "metadata": {},
   "outputs": [
    {
     "name": "stdin",
     "output_type": "stream",
     "text": [
      "Gib einen einzelnen Buchstaben ein:  1\n"
     ]
    },
    {
     "name": "stdout",
     "output_type": "stream",
     "text": [
      "Das war kein einzelner Buchstabe.\n"
     ]
    },
    {
     "name": "stdin",
     "output_type": "stream",
     "text": [
      "Gib einen einzelnen Buchstaben ein:  d\n"
     ]
    },
    {
     "name": "stdout",
     "output_type": "stream",
     "text": [
      "D\n"
     ]
    }
   ],
   "source": [
    "geratener_buchstabe = erhalte_großbuchstaben()\n",
    "print(geratener_buchstabe)"
   ]
  },
  {
   "cell_type": "markdown",
   "id": "28182fe181844b31",
   "metadata": {},
   "source": [
    "## Hangman-Spiel"
   ]
  },
  {
   "cell_type": "markdown",
   "id": "2161e3aa5d40440b",
   "metadata": {},
   "source": [
    "<div style=\"background-color: #D1ECF1; padding: 10px; border-radius: 5px; overflow: hidden; border: 2px solid #2A6173;\">\n",
    "    <img src=\"msc/img/gesamtes_flussdiagramm.jpg\" style=\"width:400px; margin: 20px; float: right\"/>\n",
    "    Wir haben nun fast alle Bausteine zusammen, die wir brauchen, um das Spiel zu vervollständigen. <br>\n",
    "Hier noch mal eine Übersicht:\n",
    "\n",
    "- `verringere_um_eins`\n",
    "- `kündige_spieleröffnung_an`\n",
    "- `ist_das_spiel_noch_am_laufen`\n",
    "- `erhalte_großbuchstaben`\n",
    "- `gib_verdecktes_wort`\n",
    "- `buchstaben_aufdecken`\n",
    "\n",
    "Außerdem haben wir eine Funktion schon mal für euch vorbereitet:\n",
    "</div>\n",
    "\n"
   ]
  },
  {
   "cell_type": "code",
   "execution_count": null,
   "id": "d05c3ee62f682268",
   "metadata": {},
   "outputs": [],
   "source": [
    "# brauchen wir, um ein Wort zufällig auszuwählen\n",
    "import random\n",
    "\n",
    "# wählt ein zufälliges Wort aus der gegebenen Liste von Strings (\"wortliste\") \n",
    "def wähle_ein_zufälliges_wort(wörterliste):  \n",
    "    wort = random.choice(wörterliste)\n",
    "    return wort"
   ]
  },
  {
   "cell_type": "markdown",
   "id": "2d69014d922761ba",
   "metadata": {},
   "source": [
    "<div style=\"background-color: #D1ECF1; padding: 10px; border-radius: 5px; overflow: hidden; border: 2px solid #2A6173;\">\n",
    "     Wir brauchen also nur noch die Funktionen, die wir schon geschrieben haben, an der richtigen Stelle einzufügen.\n",
    "</div>\n"
   ]
  },
  {
   "cell_type": "code",
   "execution_count": 17,
   "id": "38dcb9615797cb54",
   "metadata": {},
   "outputs": [
    {
     "data": {
      "image/png": "[encoded data removed]",
      "text/plain": [
       "<Figure size 640x480 with 1 Axes>"
      ]
     },
     "metadata": {},
     "output_type": "display_data"
    }
   ],
   "source": [
    "import random\n",
    "from time import sleep\n",
    "\n",
    "from lib.hangman_gui import HangmanGui\n",
    "\n",
    "# Hier laden wir die Wörterliste\n",
    "with open(\"msc/words.txt\", \"r\") as f:\n",
    "    wörter_liste = [line.strip() for line in f.readlines()]\n",
    "\n",
    "# Eigentliches Spiel\n",
    "def starte_hangmanspiel(wörterliste):\n",
    "    # TODO: hier könnte eine Begrüßung hin\n",
    "    \n",
    "    geheimwort = random.choice(wörterliste) # TODO: hier sollte ein Wort per Zufall aus der Liste 'wörter_liste' ausgewählt werden\n",
    "    fehlgeschlagene_buchstaben = [] #hier sammeln wir die Buchstaben, die falsch sind und schon mal geraten wurden\n",
    "    erratenes_teilwort = _ # TODO: hier wollen wir am Anfang eine Liste haben mit \"_\" für jeden Buchstaben im Geheimwort\n",
    "    erlaubte_fehlversuche = 10\n",
    "    sleep(0.5)\n",
    "    #sorgt für die graphische Ausgabe\n",
    "    gui = HangmanGui(geheimwort, erratenes_teilwort, erlaubte_fehlversuche) \n",
    "\n",
    "    while (ist_das_spiel_noch_am_laufen(erratenes_teilwort, erlaubte_fehlversuche)):\n",
    "        input(\"H\")\n",
    "        eingabebuchstabe = erhalte_großbuchstaben()\n",
    "    \n",
    "        if (eingabebuchstabe in erratenes_teilwort):\n",
    "            nachricht =\"Der Buchstabe ist bereits erraten.\\nVersuche einen anderen Buchstaben.\"\n",
    "    \n",
    "        if (eingabebuchstabe in geheimwort):\n",
    "            nachricht = \"Glückwunsch, der Buchstabe ist im Wort enthalten\"\n",
    "            buchstaben_aufdecken(eingabebuchstabe, geheimwort, erratenesTeilwort)\n",
    "    \n",
    "        if (eingabebuchstabe in fehlgeschlagene_buchstaben):\n",
    "            nachricht=\"Der Buchstabe ist bereits fehlgeschlagenen.\\nVersuche einen anderen Buchstaben!\"\n",
    "    \n",
    "        if (not (eingabebuchstabe in geheimwort)):\n",
    "            erlaubteFehlversuche = verringere_um_eins(erlaubteFehlversuche)\n",
    "            erweitere_fehlgeschlagene_BuchstabenListe(eingabebuchstabe, fehlgeschlageneBuchstaben)\n",
    "            nachricht=\"Leider ist der Buchstabe nicht im Wort enthalten.\\nDu hast nun ein Leben weniger!\"\n",
    "    \n",
    "        gui.cycle(erratenesTeilwort, erlaubteFehlversuche, fehlgeschlageneBuchstaben, message=nachricht)\n",
    "\n",
    "starte_hangmanspiel(wörter_liste)"
   ]
  }
 ],
 "metadata": {
  "kernelspec": {
   "display_name": "Python 3 (ipykernel)",
   "language": "python",
   "name": "python3"
  },
  "language_info": {
   "codemirror_mode": {
    "name": "ipython",
    "version": 3
   },
   "file_extension": ".py",
   "mimetype": "text/x-python",
   "name": "python",
   "nbconvert_exporter": "python",
   "pygments_lexer": "ipython3",
   "version": "3.12.3"
  }
 },
 "nbformat": 4,
 "nbformat_minor": 5
}
